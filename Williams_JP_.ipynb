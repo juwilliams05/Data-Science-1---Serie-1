{
  "nbformat": 4,
  "nbformat_minor": 0,
  "metadata": {
    "colab": {
      "provenance": [],
      "authorship_tag": "ABX9TyOrGdIFiSn2Uy/CBY0MJQv+",
      "include_colab_link": true
    },
    "kernelspec": {
      "name": "python3",
      "display_name": "Python 3"
    },
    "language_info": {
      "name": "python"
    }
  },
  "cells": [
    {
      "cell_type": "markdown",
      "metadata": {
        "id": "view-in-github",
        "colab_type": "text"
      },
      "source": [
        "<a href=\"https://colab.research.google.com/github/juwilliams05/Data-Science-1---Serie-1/blob/main/Williams_JP_.ipynb\" target=\"_parent\"><img src=\"https://colab.research.google.com/assets/colab-badge.svg\" alt=\"Open In Colab\"/></a>"
      ]
    },
    {
      "cell_type": "code",
      "source": [
        "# Importar librerías\n",
        "import matplotlib.pyplot as plt\n",
        "import seaborn as sns\n",
        "import pandas as pd\n",
        "import warnings"
      ],
      "metadata": {
        "id": "jsJzf7yi7309"
      },
      "execution_count": 5,
      "outputs": []
    },
    {
      "cell_type": "code",
      "source": [
        "# Configuraciones opcionales para mejor visualización\n",
        "sns.set_theme(style=\"whitegrid\") # Establece un tema estético para los gráficos\n",
        "plt.rcParams['figure.figsize'] = (12, 6) # Establece un tamaño de figura por defecto\n",
        "warnings.filterwarnings('ignore') # Ignora advertencias (útil para presentaciones)"
      ],
      "metadata": {
        "id": "0g1EMhSa7-pc"
      },
      "execution_count": 6,
      "outputs": []
    },
    {
      "cell_type": "code",
      "source": [
        "import requests\n",
        "\n",
        "url = \"https://raw.githubusercontent.com/juwilliams05/Data-Science-1---Serie-1/refs/heads/main/Producci%C3%B3n%20mensual%20mundial%20de%20electricidad.csv\"\n",
        "\n",
        "response = requests.get(url)  # Hace una solicitud GET para obtener el contenido del archivo\n",
        "print(response.text[:300])  # Imprime los primeros 300 caracteres del archivo para ver cómo está delimitado"
      ],
      "metadata": {
        "colab": {
          "base_uri": "https://localhost:8080/"
        },
        "id": "ndPdF5d48FUk",
        "outputId": "743ff941-9163-4406-ea92-b4762ec4dfe8"
      },
      "execution_count": 7,
      "outputs": [
        {
          "output_type": "stream",
          "name": "stdout",
          "text": [
            "country;country_clean;region;is_developed;year;month;quarter;date;period;season;year_category;energy_source;energy_source_clean;source_category;energy_type;electricity_production_gwh;share_of_total;is_renewable;is_fossil;energy_intensity_category;is_outlier;is_negative;is_zero\r\n",
            "Argentina;Argentina;S\n"
          ]
        }
      ]
    },
    {
      "cell_type": "code",
      "source": [],
      "metadata": {
        "id": "UA6BhEYD8FPV"
      },
      "execution_count": null,
      "outputs": []
    },
    {
      "cell_type": "code",
      "source": [],
      "metadata": {
        "id": "P6hpY5Pa8EzP"
      },
      "execution_count": null,
      "outputs": []
    }
  ]
}